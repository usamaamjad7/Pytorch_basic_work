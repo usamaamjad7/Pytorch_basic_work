{
  "nbformat": 4,
  "nbformat_minor": 0,
  "metadata": {
    "colab": {
      "name": "Building_Q_table.ipynb",
      "provenance": [],
      "collapsed_sections": []
    },
    "kernelspec": {
      "name": "python3",
      "display_name": "Python 3"
    },
    "language_info": {
      "name": "python"
    },
    "accelerator": "GPU"
  },
  "cells": [
    {
      "cell_type": "code",
      "metadata": {
        "id": "rgAsDJ1eDFh2"
      },
      "source": [
        "# initialie the game environment\n",
        "\n",
        "import numpy as np\n",
        "import gym\n",
        "import random\n",
        "env = gym.make('FrozenLake-v0',is_slippery=False)"
      ],
      "execution_count": null,
      "outputs": []
    },
    {
      "cell_type": "code",
      "metadata": {
        "id": "qBgX-KzjDbj9"
      },
      "source": [
        "# initialize the Q-table with zeros\n",
        "\n",
        "action_size = env.action_space.n\n",
        "state_size = env.observation_space.n\n",
        "qtable = np.zeros((state_size,action_size))"
      ],
      "execution_count": null,
      "outputs": []
    },
    {
      "cell_type": "code",
      "metadata": {
        "colab": {
          "base_uri": "https://localhost:8080/"
        },
        "id": "lzaLWV5JEM_G",
        "outputId": "2d891f84-0837-47ad-b4d6-e9164fafc4e2"
      },
      "source": [
        "# reset\n",
        "\n",
        "episode_rewards = []\n",
        "for i in range(10000):\n",
        "    state = env.reset()\n",
        "    total_rewards = 0\n",
        "    for step in range(50):\n",
        "        action = env.action_space.sample()\n",
        "        new_state,reward,done,info = env.step(action)\n",
        "        qtable[state,action]+=0.1*(reward+0.9*np.max(qtable[new_state,:])-qtable[state,action])\n",
        "        state=new_state\n",
        "        total_rewards+=reward\n",
        "    episode_rewards.append(total_rewards)\n",
        "print(qtable)"
      ],
      "execution_count": null,
      "outputs": [
        {
          "output_type": "stream",
          "text": [
            "[[0.53144093 0.59048992 0.59048992 0.53144093]\n",
            " [0.53144093 0.         0.65609992 0.59048992]\n",
            " [0.59048992 0.72899991 0.59048991 0.65609991]\n",
            " [0.6560999  0.         0.5904899  0.5904899 ]\n",
            " [0.59048992 0.65609991 0.         0.53144093]\n",
            " [0.         0.         0.         0.        ]\n",
            " [0.         0.80999991 0.         0.65609986]\n",
            " [0.         0.         0.         0.        ]\n",
            " [0.6560999  0.         0.72899991 0.5904899 ]\n",
            " [0.65609986 0.80999914 0.80999991 0.        ]\n",
            " [0.72899979 0.89999992 0.         0.72899978]\n",
            " [0.         0.         0.         0.        ]\n",
            " [0.         0.         0.         0.        ]\n",
            " [0.         0.809997   0.89999933 0.72899743]\n",
            " [0.80994972 0.89999856 0.99999996 0.8099952 ]\n",
            " [0.         0.         0.         0.        ]]\n"
          ],
          "name": "stdout"
        }
      ]
    },
    {
      "cell_type": "code",
      "metadata": {
        "id": "g__64BxrFQFh",
        "colab": {
          "base_uri": "https://localhost:8080/"
        },
        "outputId": "d8306224-881b-4588-8e0a-50a8f5d5def0"
      },
      "source": [
        "# Exploration and exploitation\n",
        "\n",
        "episode_rewards = []\n",
        "epsilon = 1\n",
        "max_epsilon =1\n",
        "min_epsilon = 0.01\n",
        "decay_rate = 0.005\n",
        "for episode in range(1000):\n",
        "    state = env.reset()\n",
        "    total_rewards = 0\n",
        "    for step in range(50):\n",
        "        exp_exp_tradeoff = random.uniform(0,1)\n",
        "        #Exploitation\n",
        "        if exp_exp_tradeoff > epsilon:\n",
        "            action = np.argmax(qtable[state,:])\n",
        "        else:\n",
        "            #Exploration\n",
        "            action = env.action_space.sample()\n",
        "        new_state,reward,done,info=env.step(action)\n",
        "        qtable[state,action] +=0.9*(reward+0.9*np.max(qtable[new_state,:])- qtable[state,action])\n",
        "        state = new_state\n",
        "        total_rewards += reward\n",
        "    episode_rewards.append(total_rewards)\n",
        "    epsilon = min_epsilon+(max_epsilon-min_epsilon)*np.exp(decay_rate*episode)\n",
        "print(qtable)"
      ],
      "execution_count": null,
      "outputs": [
        {
          "output_type": "stream",
          "text": [
            "[[0.531441 0.59049  0.59049  0.531441]\n",
            " [0.531441 0.       0.6561   0.59049 ]\n",
            " [0.59049  0.729    0.59049  0.6561  ]\n",
            " [0.6561   0.       0.59049  0.59049 ]\n",
            " [0.59049  0.6561   0.       0.531441]\n",
            " [0.       0.       0.       0.      ]\n",
            " [0.       0.81     0.       0.6561  ]\n",
            " [0.       0.       0.       0.      ]\n",
            " [0.6561   0.       0.729    0.59049 ]\n",
            " [0.6561   0.81     0.81     0.      ]\n",
            " [0.729    0.9      0.       0.729   ]\n",
            " [0.       0.       0.       0.      ]\n",
            " [0.       0.       0.       0.      ]\n",
            " [0.       0.81     0.9      0.729   ]\n",
            " [0.81     0.9      1.       0.81    ]\n",
            " [0.       0.       0.       0.      ]]\n"
          ],
          "name": "stdout"
        }
      ]
    },
    {
      "cell_type": "code",
      "metadata": {
        "colab": {
          "base_uri": "https://localhost:8080/"
        },
        "id": "ke4hdJKtiGHa",
        "outputId": "d772d5b5-8bcf-4915-9736-2b1cff184518"
      },
      "source": [
        "# Once we've obtained the Q-table, we can leverage it to identify the steps that the agent needs to take to reach its destination:\n",
        "env.reset()\n",
        "for episode in range(1):\n",
        "    state=env.reset()\n",
        "    step=0\n",
        "    done=False\n",
        "    print(\"-----------------------\")\n",
        "    print(\"Episode\",episode)\n",
        "    for step in range(50):\n",
        "        env.render()\n",
        "        action=np.argmax(qtable[state,:])\n",
        "        print(action)\n",
        "        new_state,reward,done,info=env.step(action) \n",
        "        if done:\n",
        "            print(\"Number of Steps\",step+1)\n",
        "            break\n",
        "        state=new_state\n",
        "env.close()"
      ],
      "execution_count": null,
      "outputs": [
        {
          "output_type": "stream",
          "text": [
            "-----------------------\n",
            "Episode 0\n",
            "\n",
            "\u001b[41mS\u001b[0mFFF\n",
            "FHFH\n",
            "FFFH\n",
            "HFFG\n",
            "1\n",
            "  (Down)\n",
            "SFFF\n",
            "\u001b[41mF\u001b[0mHFH\n",
            "FFFH\n",
            "HFFG\n",
            "1\n",
            "  (Down)\n",
            "SFFF\n",
            "FHFH\n",
            "\u001b[41mF\u001b[0mFFH\n",
            "HFFG\n",
            "2\n",
            "  (Right)\n",
            "SFFF\n",
            "FHFH\n",
            "F\u001b[41mF\u001b[0mFH\n",
            "HFFG\n",
            "1\n",
            "  (Down)\n",
            "SFFF\n",
            "FHFH\n",
            "FFFH\n",
            "H\u001b[41mF\u001b[0mFG\n",
            "2\n",
            "  (Right)\n",
            "SFFF\n",
            "FHFH\n",
            "FFFH\n",
            "HF\u001b[41mF\u001b[0mG\n",
            "2\n",
            "Number of Steps 6\n"
          ],
          "name": "stdout"
        }
      ]
    },
    {
      "cell_type": "code",
      "metadata": {
        "id": "7vFnCtj5iGIz"
      },
      "source": [
        ""
      ],
      "execution_count": null,
      "outputs": []
    }
  ]
}